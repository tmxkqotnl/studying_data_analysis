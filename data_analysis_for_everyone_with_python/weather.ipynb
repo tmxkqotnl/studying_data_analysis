{
 "cells": [
  {
   "cell_type": "code",
   "execution_count": null,
   "metadata": {},
   "outputs": [],
   "source": [
    "import pandas as pd\n",
    "import matplotlib.pyplot as plt\n",
    "\n",
    "df = pd.read_csv('./weather.csv',encoding='euc-kr')\n",
    "df['날짜'] = pd.to_datetime(df['날짜']).values\n",
    "print(df.info())\n",
    "\n",
    "plt.rc('font',family = 'Malgun Gothic')\n",
    "plt.rcParams['axes.unicode_minus'] = False"
   ]
  },
  {
   "cell_type": "code",
   "execution_count": null,
   "metadata": {},
   "outputs": [],
   "source": [
    "year = 2019\n",
    "filtered = df[df['날짜'].dt.year == year]\n",
    "avg_temp = filtered.groupby(by = [df['날짜'].dt.month]).mean()\n",
    "\n",
    "# 월 별 평균 기온\n",
    "plt.plot(avg_temp.index,y_avg_temp['평균기온(℃)'],color='black',label='평균기온(℃)')    \n",
    "\n",
    "# 월 별 최고 기온\n",
    "plt.plot(avg_temp.index,y_avg_temp['최고기온(℃)'],color='r',label='최고기온(℃)')    \n",
    "\n",
    "# 월 별 최저 기온\n",
    "plt.plot(avg_temp.index,y_avg_temp['최저기온(℃)'],color='b',label='최저기온(℃)')    \n",
    "\n",
    "plt.legend()\n",
    "plt.show()\n",
    "plt.close()"
   ]
  },
  {
   "cell_type": "code",
   "execution_count": null,
   "metadata": {},
   "outputs": [],
   "source": [
    "# find info when the date is my birth day\n",
    "filtered = df[(df['날짜'].dt.month == 4)&(df['날짜'].dt.day == 11)]\n",
    "\n",
    "plt.figure(figsize=(20,4))\n",
    "plt.title('연도별 내 생일의 평균 기온')\n",
    "plt.plot(filtered['날짜'],filtered['평균기온(℃)'],label='평균기온')\n",
    "plt.legend()\n",
    "\n",
    "# plt.savefig('./myBirth')\n",
    "plt.show()\n",
    "plt.close()"
   ]
  },
  {
   "cell_type": "code",
   "execution_count": 55,
   "metadata": {},
   "outputs": [
    {
     "data": {
      "text/plain": [
       "(array([ 3.,  0.,  2.,  0.,  1.,  0.,  1.,  0.,  5.,  2.,  5.,  4.,  1.,\n",
       "         3.,  3.,  7.,  5.,  4.,  5.,  8.,  4.,  8.,  2.,  8.,  7.,  6.,\n",
       "        13., 18.,  8., 15.,  7., 12., 19., 13.,  9., 11.,  7., 17., 11.,\n",
       "         5., 16., 14.,  8., 16., 12., 21., 12., 12., 20.,  8.,  9., 33.,\n",
       "        15.,  9., 17., 11., 31.,  9., 13., 30.,  9., 14., 21., 16., 20.,\n",
       "        18., 14., 30., 14., 15., 20., 11., 19., 14., 15., 13.,  6.,  6.,\n",
       "        24., 16.,  3., 28.,  5., 15.,  8.,  7.,  9.,  3.,  2., 10.,  1.,\n",
       "         3.,  1.,  0.,  2.,  2.,  1.,  1.,  0.,  1.]),\n",
       " array([19.2  , 19.337, 19.474, 19.611, 19.748, 19.885, 20.022, 20.159,\n",
       "        20.296, 20.433, 20.57 , 20.707, 20.844, 20.981, 21.118, 21.255,\n",
       "        21.392, 21.529, 21.666, 21.803, 21.94 , 22.077, 22.214, 22.351,\n",
       "        22.488, 22.625, 22.762, 22.899, 23.036, 23.173, 23.31 , 23.447,\n",
       "        23.584, 23.721, 23.858, 23.995, 24.132, 24.269, 24.406, 24.543,\n",
       "        24.68 , 24.817, 24.954, 25.091, 25.228, 25.365, 25.502, 25.639,\n",
       "        25.776, 25.913, 26.05 , 26.187, 26.324, 26.461, 26.598, 26.735,\n",
       "        26.872, 27.009, 27.146, 27.283, 27.42 , 27.557, 27.694, 27.831,\n",
       "        27.968, 28.105, 28.242, 28.379, 28.516, 28.653, 28.79 , 28.927,\n",
       "        29.064, 29.201, 29.338, 29.475, 29.612, 29.749, 29.886, 30.023,\n",
       "        30.16 , 30.297, 30.434, 30.571, 30.708, 30.845, 30.982, 31.119,\n",
       "        31.256, 31.393, 31.53 , 31.667, 31.804, 31.941, 32.078, 32.215,\n",
       "        32.352, 32.489, 32.626, 32.763, 32.9  ]),\n",
       " <BarContainer object of 100 artists>)"
      ]
     },
     "execution_count": 55,
     "metadata": {},
     "output_type": "execute_result"
    },
    {
     "data": {
      "image/png": "[encoded data removed]",
      "text/plain": [
       "<Figure size 432x288 with 1 Axes>"
      ]
     },
     "metadata": {
      "needs_background": "light"
     },
     "output_type": "display_data"
    }
   ],
   "source": [
    "# histogram\n",
    "df_hist_one = df[df['날짜'].dt.month == 4]\n",
    "df_hist_two = df[df['날짜'].dt.month == 8]\n",
    "plt.hist(df_hist_one['평균기온(℃)'],bins=100)\n",
    "plt.hist(df_hist_two['평균기온(℃)'],bins=100)"
   ]
  },
  {
   "cell_type": "code",
   "execution_count": 71,
   "metadata": {},
   "outputs": [
    {
     "data": {
      "text/plain": [
       "Text(0.9, 4.4, '4.4')"
      ]
     },
     "execution_count": 71,
     "metadata": {},
     "output_type": "execute_result"
    },
    {
     "data": {
      "image/png": "[encoded data removed]",
      "text/plain": [
       "<Figure size 432x288 with 1 Axes>"
      ]
     },
     "metadata": {
      "needs_background": "light"
     },
     "output_type": "display_data"
    }
   ],
   "source": [
    "# boxplot\n",
    "plt.boxplot(df_hist_one['평균기온(℃)'])\n",
    "\n",
    "max_value = df_hist_one['평균기온(℃)'].max()\n",
    "min_value = df_hist_one['평균기온(℃)'].min()\n",
    "plt.text(1.1,max_value,max_value)\n",
    "plt.text(0.9,min_value,min_value)"
   ]
  }
 ],
 "metadata": {
  "interpreter": {
   "hash": "790853964d07a844ab36560b4ca6f37d343a445b949a0bbb0b0e1c10007be0ef"
  },
  "kernelspec": {
   "display_name": "Python 3.9.7 64-bit ('lec_pandas': conda)",
   "language": "python",
   "name": "python3"
  },
  "language_info": {
   "codemirror_mode": {
    "name": "ipython",
    "version": 3
   },
   "file_extension": ".py",
   "mimetype": "text/x-python",
   "name": "python",
   "nbconvert_exporter": "python",
   "pygments_lexer": "ipython3",
   "version": "3.9.7"
  },
  "orig_nbformat": 4
 },
 "nbformat": 4,
 "nbformat_minor": 2
}
